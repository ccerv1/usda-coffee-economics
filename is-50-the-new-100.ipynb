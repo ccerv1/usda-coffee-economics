{
 "cells": [
  {
   "cell_type": "code",
   "execution_count": 1,
   "metadata": {
    "collapsed": false
   },
   "outputs": [],
   "source": [
    "import pandas as pd\n",
    "pd.options.mode.chained_assignment = None\n",
    "\n",
    "import datetime"
   ]
  },
  {
   "cell_type": "code",
   "execution_count": 2,
   "metadata": {
    "collapsed": false
   },
   "outputs": [],
   "source": [
    "DAILY_C = pd.read_csv(\"markets_historical_kc1_com.csv\", parse_dates=True, dayfirst=True)\n",
    "DAILY_C['Date'] = DAILY_C.apply(lambda x: datetime.datetime.strptime(x['Date'], '%d/%m/%Y'), axis=1)\n",
    "DAILY_C = DAILY_C[['Date', 'Close']]"
   ]
  },
  {
   "cell_type": "code",
   "execution_count": 3,
   "metadata": {
    "collapsed": false
   },
   "outputs": [],
   "source": [
    "def country_inflator (country, date_threshold):\n",
    "    \n",
    "    filename = \"historical_country_\" + country + \"_indicator_Inflation_Rate.csv\"\n",
    "    df = pd.read_csv(filename, parse_dates=True)\n",
    "    df['Date'] = df.apply(lambda x: datetime.datetime.strptime(x['DateTime'], '%Y-%m-%dT%H:%M:%S'), axis=1)\n",
    "    df = df[df['Date']>=date_threshold]\n",
    "    df.reset_index(inplace=True)\n",
    "\n",
    "    df['Inflator'] = 1.\n",
    "    for i, v in df.iterrows():\n",
    "        if i >= 12:\n",
    "            df['Inflator'][i] = df['Inflator'][i-12] * (1. + df['Value'][i]/100)\n",
    "    base = float(df['Inflator'][-1:])\n",
    "    for i, v in df.iterrows():\n",
    "        df['Inflator'][i] /= base\n",
    "\n",
    "    df = df[['Date', 'Country', 'Inflator']]\n",
    "    df.dropna(inplace=True)\n",
    "    return df"
   ]
  },
  {
   "cell_type": "code",
   "execution_count": 4,
   "metadata": {
    "collapsed": false
   },
   "outputs": [],
   "source": [
    "def exchange_rate (country, date_threshold):\n",
    "    \n",
    "    if country == \"United_States\":\n",
    "        return pd.DataFrame({'Date': list(DAILY_C['Date']), 'FX': 1.})\n",
    "    \n",
    "    filename = \"historical_country_\" + country.lower() + \"_indicator_currency.csv\"\n",
    "    df = pd.read_csv(filename, parse_dates=True)\n",
    "    df['Date'] = df.apply(lambda x: datetime.datetime.strptime(x['DateTime'], '%Y-%m-%dT%H:%M:%S'), axis=1)\n",
    "    df = df[['Date', 'Value']]\n",
    "    df.columns = ['Date', 'FX']\n",
    "    return df"
   ]
  },
  {
   "cell_type": "code",
   "execution_count": 5,
   "metadata": {
    "collapsed": false
   },
   "outputs": [],
   "source": [
    "def price_adjustor (c_prices, country, date_threshold):\n",
    "    \n",
    "    c_prices = c_prices[c_prices['Date']>=date_threshold]\n",
    "    today_price = float(c_prices['Close'][-1:])\n",
    "    \n",
    "    inflation_data = country_inflator(country, START_DATE)\n",
    "    fx_data = exchange_rate(country, START_DATE)\n",
    "    today_fx = float(fx_data['FX'][-30:].mean())\n",
    "    \n",
    "    df = pd.merge_asof(c_prices, inflation_data, on='Date')\n",
    "    df = pd.merge_asof(df, fx_data, on='Date')\n",
    "    df.dropna(inplace=True)\n",
    "    \n",
    "    df[\"Adjusted C Price\"] = df.apply(lambda x:\n",
    "                               (x['Close'] * x['FX'] / x['Inflator']) /\n",
    "                               (today_price * today_fx) * today_price\n",
    "                              , axis=1)\n",
    "    \n",
    "    df.reset_index(inplace=True)\n",
    "    df = df[[\"Date\", \"FX\", \"Inflator\", \"Close\", \"Adjusted C Price\"]]\n",
    "    df.rename(columns={\"Close\": \"Nominal C Price\"}, inplace=True)\n",
    "    return df"
   ]
  },
  {
   "cell_type": "code",
   "execution_count": 6,
   "metadata": {
    "collapsed": true
   },
   "outputs": [],
   "source": [
    "def get_summary_indicators (country, df):\n",
    "    \n",
    "    cum_inflation = float(df['Inflator'][-1:] / df['Inflator'][0])\n",
    "    cum_devaluation = float(df['FX'][-30:].mean() / df['FX'][0].mean())\n",
    "    factor = cum_inflation / cum_devaluation\n",
    "    \n",
    "    return {\n",
    "        'Country': country,\n",
    "        'Cumulative Inflation': cum_inflation, \n",
    "        'Cumulative Devaluation': cum_devaluation, \n",
    "        'Adj. Factor': factor\n",
    "    }"
   ]
  },
  {
   "cell_type": "code",
   "execution_count": 7,
   "metadata": {
    "collapsed": false
   },
   "outputs": [],
   "source": [
    "COUNTRIES = [\"Brazil\", \"Colombia\", \"Indonesia\", \"Vietnam\", \"Guatemala\", \"Ethiopia\"]\n",
    "START_DATE = datetime.datetime(2001,8,28)\n",
    "\n",
    "summary_table = pd.DataFrame(columns=('Country', 'Cumulative Inflation', 'Cumulative Devaluation', 'Adj. Factor'))\n",
    "\n",
    "all_countries = price_adjustor(DAILY_C, \"United_States\", START_DATE)\n",
    "for country in COUNTRIES:\n",
    "    temp = price_adjustor(DAILY_C, country, START_DATE)\n",
    "    summary_row = get_summary_indicators(country, temp)\n",
    "    summary_table = summary_table.append(summary_row, ignore_index=True)\n",
    "\n",
    "    temp = temp[['Date', 'Adjusted C Price']]\n",
    "    temp.columns = ['Date', country]\n",
    "    all_countries = all_countries.merge(temp, on='Date', how='left')\n",
    "\n",
    "all_countries.fillna(value='', inplace=True)"
   ]
  },
  {
   "cell_type": "code",
   "execution_count": 8,
   "metadata": {
    "collapsed": false
   },
   "outputs": [
    {
     "data": {
      "text/html": [
       "<div>\n",
       "<style scoped>\n",
       "    .dataframe tbody tr th:only-of-type {\n",
       "        vertical-align: middle;\n",
       "    }\n",
       "\n",
       "    .dataframe tbody tr th {\n",
       "        vertical-align: top;\n",
       "    }\n",
       "\n",
       "    .dataframe thead th {\n",
       "        text-align: right;\n",
       "    }\n",
       "</style>\n",
       "<table border=\"1\" class=\"dataframe\">\n",
       "  <thead>\n",
       "    <tr style=\"text-align: right;\">\n",
       "      <th></th>\n",
       "      <th>Country</th>\n",
       "      <th>Cumulative Inflation</th>\n",
       "      <th>Cumulative Devaluation</th>\n",
       "      <th>Adj. Factor</th>\n",
       "    </tr>\n",
       "  </thead>\n",
       "  <tbody>\n",
       "    <tr>\n",
       "      <th>0</th>\n",
       "      <td>Brazil</td>\n",
       "      <td>2.680440</td>\n",
       "      <td>1.516248</td>\n",
       "      <td>1.767811</td>\n",
       "    </tr>\n",
       "    <tr>\n",
       "      <th>1</th>\n",
       "      <td>Colombia</td>\n",
       "      <td>2.028681</td>\n",
       "      <td>1.276301</td>\n",
       "      <td>1.589500</td>\n",
       "    </tr>\n",
       "    <tr>\n",
       "      <th>2</th>\n",
       "      <td>Indonesia</td>\n",
       "      <td>2.686708</td>\n",
       "      <td>1.638117</td>\n",
       "      <td>1.640120</td>\n",
       "    </tr>\n",
       "    <tr>\n",
       "      <th>3</th>\n",
       "      <td>Vietnam</td>\n",
       "      <td>3.204364</td>\n",
       "      <td>1.551429</td>\n",
       "      <td>2.065427</td>\n",
       "    </tr>\n",
       "    <tr>\n",
       "      <th>4</th>\n",
       "      <td>Guatemala</td>\n",
       "      <td>2.282676</td>\n",
       "      <td>0.947502</td>\n",
       "      <td>2.409151</td>\n",
       "    </tr>\n",
       "    <tr>\n",
       "      <th>5</th>\n",
       "      <td>Ethiopia</td>\n",
       "      <td>8.516746</td>\n",
       "      <td>3.262073</td>\n",
       "      <td>2.610839</td>\n",
       "    </tr>\n",
       "  </tbody>\n",
       "</table>\n",
       "</div>"
      ],
      "text/plain": [
       "     Country  Cumulative Inflation  Cumulative Devaluation  Adj. Factor\n",
       "0     Brazil              2.680440                1.516248     1.767811\n",
       "1   Colombia              2.028681                1.276301     1.589500\n",
       "2  Indonesia              2.686708                1.638117     1.640120\n",
       "3    Vietnam              3.204364                1.551429     2.065427\n",
       "4  Guatemala              2.282676                0.947502     2.409151\n",
       "5   Ethiopia              8.516746                3.262073     2.610839"
      ]
     },
     "execution_count": 8,
     "metadata": {},
     "output_type": "execute_result"
    }
   ],
   "source": [
    "summary_table.to_csv(\"summary_analysis.csv\")\n",
    "summary_table"
   ]
  },
  {
   "cell_type": "code",
   "execution_count": 9,
   "metadata": {
    "collapsed": false
   },
   "outputs": [
    {
     "data": {
      "text/html": [
       "<div>\n",
       "<style scoped>\n",
       "    .dataframe tbody tr th:only-of-type {\n",
       "        vertical-align: middle;\n",
       "    }\n",
       "\n",
       "    .dataframe tbody tr th {\n",
       "        vertical-align: top;\n",
       "    }\n",
       "\n",
       "    .dataframe thead th {\n",
       "        text-align: right;\n",
       "    }\n",
       "</style>\n",
       "<table border=\"1\" class=\"dataframe\">\n",
       "  <thead>\n",
       "    <tr style=\"text-align: right;\">\n",
       "      <th></th>\n",
       "      <th>Date</th>\n",
       "      <th>FX</th>\n",
       "      <th>Inflator</th>\n",
       "      <th>Nominal C Price</th>\n",
       "      <th>Adjusted C Price</th>\n",
       "      <th>Brazil</th>\n",
       "      <th>Colombia</th>\n",
       "      <th>Indonesia</th>\n",
       "      <th>Vietnam</th>\n",
       "      <th>Guatemala</th>\n",
       "      <th>Ethiopia</th>\n",
       "    </tr>\n",
       "  </thead>\n",
       "  <tbody>\n",
       "    <tr>\n",
       "      <th>0</th>\n",
       "      <td>2001-08-31</td>\n",
       "      <td>1.0</td>\n",
       "      <td>0.715878</td>\n",
       "      <td>50.5</td>\n",
       "      <td>70.542791</td>\n",
       "      <td>88.46652</td>\n",
       "      <td>79.846525</td>\n",
       "      <td>82.687461</td>\n",
       "      <td>109.514834</td>\n",
       "      <td>121.575517</td>\n",
       "      <td>131.775545</td>\n",
       "    </tr>\n",
       "  </tbody>\n",
       "</table>\n",
       "</div>"
      ],
      "text/plain": [
       "        Date   FX  Inflator  Nominal C Price  Adjusted C Price    Brazil  \\\n",
       "0 2001-08-31  1.0  0.715878             50.5         70.542791  88.46652   \n",
       "\n",
       "    Colombia  Indonesia     Vietnam   Guatemala    Ethiopia  \n",
       "0  79.846525  82.687461  109.514834  121.575517  131.775545  "
      ]
     },
     "execution_count": 9,
     "metadata": {},
     "output_type": "execute_result"
    }
   ],
   "source": [
    "all_countries.head(1)"
   ]
  },
  {
   "cell_type": "code",
   "execution_count": null,
   "metadata": {
    "collapsed": true
   },
   "outputs": [],
   "source": []
  },
  {
   "cell_type": "code",
   "execution_count": 10,
   "metadata": {
    "collapsed": true
   },
   "outputs": [],
   "source": [
    "ET = price_adjustor(DAILY_C, \"Ethiopia\", START_DATE)"
   ]
  },
  {
   "cell_type": "code",
   "execution_count": 11,
   "metadata": {
    "collapsed": false
   },
   "outputs": [
    {
     "data": {
      "text/html": [
       "<div>\n",
       "<style scoped>\n",
       "    .dataframe tbody tr th:only-of-type {\n",
       "        vertical-align: middle;\n",
       "    }\n",
       "\n",
       "    .dataframe tbody tr th {\n",
       "        vertical-align: top;\n",
       "    }\n",
       "\n",
       "    .dataframe thead th {\n",
       "        text-align: right;\n",
       "    }\n",
       "</style>\n",
       "<table border=\"1\" class=\"dataframe\">\n",
       "  <thead>\n",
       "    <tr style=\"text-align: right;\">\n",
       "      <th></th>\n",
       "      <th>Date</th>\n",
       "      <th>FX</th>\n",
       "      <th>Inflator</th>\n",
       "      <th>Nominal C Price</th>\n",
       "      <th>Adjusted C Price</th>\n",
       "    </tr>\n",
       "  </thead>\n",
       "  <tbody>\n",
       "    <tr>\n",
       "      <th>0</th>\n",
       "      <td>2001-08-31</td>\n",
       "      <td>8.4</td>\n",
       "      <td>0.117416</td>\n",
       "      <td>50.50</td>\n",
       "      <td>131.775545</td>\n",
       "    </tr>\n",
       "    <tr>\n",
       "      <th>1</th>\n",
       "      <td>2001-09-04</td>\n",
       "      <td>8.4</td>\n",
       "      <td>0.117416</td>\n",
       "      <td>51.05</td>\n",
       "      <td>133.210724</td>\n",
       "    </tr>\n",
       "    <tr>\n",
       "      <th>2</th>\n",
       "      <td>2001-09-05</td>\n",
       "      <td>8.4</td>\n",
       "      <td>0.117416</td>\n",
       "      <td>48.50</td>\n",
       "      <td>126.556712</td>\n",
       "    </tr>\n",
       "    <tr>\n",
       "      <th>3</th>\n",
       "      <td>2001-09-06</td>\n",
       "      <td>8.4</td>\n",
       "      <td>0.117416</td>\n",
       "      <td>52.15</td>\n",
       "      <td>136.081083</td>\n",
       "    </tr>\n",
       "    <tr>\n",
       "      <th>4</th>\n",
       "      <td>2001-09-07</td>\n",
       "      <td>8.4</td>\n",
       "      <td>0.117416</td>\n",
       "      <td>51.80</td>\n",
       "      <td>135.167787</td>\n",
       "    </tr>\n",
       "  </tbody>\n",
       "</table>\n",
       "</div>"
      ],
      "text/plain": [
       "        Date   FX  Inflator  Nominal C Price  Adjusted C Price\n",
       "0 2001-08-31  8.4  0.117416            50.50        131.775545\n",
       "1 2001-09-04  8.4  0.117416            51.05        133.210724\n",
       "2 2001-09-05  8.4  0.117416            48.50        126.556712\n",
       "3 2001-09-06  8.4  0.117416            52.15        136.081083\n",
       "4 2001-09-07  8.4  0.117416            51.80        135.167787"
      ]
     },
     "execution_count": 11,
     "metadata": {},
     "output_type": "execute_result"
    }
   ],
   "source": [
    "ET.head()"
   ]
  },
  {
   "cell_type": "code",
   "execution_count": null,
   "metadata": {
    "collapsed": true
   },
   "outputs": [],
   "source": []
  },
  {
   "cell_type": "code",
   "execution_count": 12,
   "metadata": {
    "collapsed": true
   },
   "outputs": [],
   "source": [
    "import plotly\n",
    "plotly.tools.set_credentials_file(username='numberscoffee', api_key='jOO5qNjOFSNJUqXOGNDA')"
   ]
  },
  {
   "cell_type": "code",
   "execution_count": 13,
   "metadata": {
    "collapsed": false
   },
   "outputs": [
    {
     "name": "stdout",
     "output_type": "stream",
     "text": [
      "High five! You successfully sent some data to your account on plotly. View your plot in your browser at https://plot.ly/~numberscoffee/0 or inside your plot.ly account where it is named 'coffee-crisis'\n"
     ]
    },
    {
     "data": {
      "text/html": [
       "<iframe id=\"igraph\" scrolling=\"no\" style=\"border:none;\" seamless=\"seamless\" src=\"https://plot.ly/~numberscoffee/0.embed\" height=\"525px\" width=\"100%\"></iframe>"
      ],
      "text/plain": [
       "<plotly.tools.PlotlyDisplay object>"
      ]
     },
     "execution_count": 13,
     "metadata": {},
     "output_type": "execute_result"
    }
   ],
   "source": [
    "import plotly.plotly as py\n",
    "\n",
    "df = DAILY_C[DAILY_C['Date']>=\"2000-01-01\"]\n",
    "df = df[df['Date']<\"2004-12-31\"]\n",
    "\n",
    "fig = {\n",
    "    'data': [\n",
    "        {'x': df['Date'], 'y': df['Close'], 'mode': 'line'}\n",
    "    ],\n",
    "    'layout': {\n",
    "        'title': 'Arabica coffee prices during the \"coffee crisis\"',\n",
    "        'yaxis': {'title': \"US cents per pound\"}\n",
    "    }\n",
    "}\n",
    "\n",
    "py.image.save_as(fig, filename='coffee-crisis.png')\n",
    "py.iplot(fig, filename='coffee-crisis')"
   ]
  },
  {
   "cell_type": "code",
   "execution_count": 14,
   "metadata": {
    "collapsed": false
   },
   "outputs": [
    {
     "data": {
      "text/html": [
       "<iframe id=\"igraph\" scrolling=\"no\" style=\"border:none;\" seamless=\"seamless\" src=\"https://plot.ly/~numberscoffee/2.embed\" height=\"525px\" width=\"100%\"></iframe>"
      ],
      "text/plain": [
       "<plotly.tools.PlotlyDisplay object>"
      ]
     },
     "execution_count": 14,
     "metadata": {},
     "output_type": "execute_result"
    }
   ],
   "source": [
    "import plotly.plotly as py\n",
    "\n",
    "df = all_countries\n",
    "\n",
    "fig = {\n",
    "    'data': [\n",
    "        {'x': df['Date'], 'y': df['Nominal C Price'], 'mode': 'line', 'name': 'Nominal price'},\n",
    "        {'x': df['Date'], 'y': df['Adjusted C Price'], 'mode': 'line', 'name': 'Inflation-adjusted price'},\n",
    "        \n",
    "    ],\n",
    "    'layout': {\n",
    "        'title': 'Arabica coffee prices, nominal and inflation-adjusted',\n",
    "        'yaxis': {'title': \"US cents per pound\"}\n",
    "\n",
    "    }\n",
    "}\n",
    "\n",
    "py.image.save_as(fig, filename='inflation-adjusted.png')\n",
    "py.iplot(fig, filename='inflation-adjusted')"
   ]
  },
  {
   "cell_type": "code",
   "execution_count": 15,
   "metadata": {
    "collapsed": false
   },
   "outputs": [
    {
     "data": {
      "text/html": [
       "<iframe id=\"igraph\" scrolling=\"no\" style=\"border:none;\" seamless=\"seamless\" src=\"https://plot.ly/~numberscoffee/4.embed\" height=\"525px\" width=\"100%\"></iframe>"
      ],
      "text/plain": [
       "<plotly.tools.PlotlyDisplay object>"
      ]
     },
     "execution_count": 15,
     "metadata": {},
     "output_type": "execute_result"
    }
   ],
   "source": [
    "import plotly.plotly as py\n",
    "\n",
    "df = all_countries\n",
    "\n",
    "fig = {\n",
    "    'data': [\n",
    "        {'x': df['Date'], 'y': df['Nominal C Price'], 'mode': 'line', 'name': 'Nominal price'},\n",
    "        {'x': df['Date'], 'y': df['Brazil'], 'mode': 'line', 'name': 'Inflation-adjusted price'},\n",
    "    ],\n",
    "    'layout': {\n",
    "        'title': 'Brazil: Arabica coffee prices, nominal and adjusted',\n",
    "        'yaxis': {'title': \"US cents per pound\"}\n",
    "    }\n",
    "}\n",
    "    \n",
    "py.image.save_as(fig, filename='brazil.png')\n",
    "py.iplot(fig, filename='brazil')"
   ]
  },
  {
   "cell_type": "code",
   "execution_count": 16,
   "metadata": {
    "collapsed": false
   },
   "outputs": [
    {
     "data": {
      "text/html": [
       "<iframe id=\"igraph\" scrolling=\"no\" style=\"border:none;\" seamless=\"seamless\" src=\"https://plot.ly/~numberscoffee/6.embed\" height=\"525px\" width=\"100%\"></iframe>"
      ],
      "text/plain": [
       "<plotly.tools.PlotlyDisplay object>"
      ]
     },
     "execution_count": 16,
     "metadata": {},
     "output_type": "execute_result"
    }
   ],
   "source": [
    "import plotly.plotly as py\n",
    "\n",
    "df = all_countries\n",
    "\n",
    "fig = {\n",
    "    'data': [\n",
    "        {'x': df['Date'], 'y': df['Nominal C Price'], 'mode': 'line', 'name': 'Nominal price'},\n",
    "        {'x': df['Date'], 'y': df['Colombia'], 'mode': 'line', 'name': 'Inflation-adjusted price'},\n",
    "    ],\n",
    "    'layout': {\n",
    "        'title': 'Colombia: Arabica coffee prices, nominal and adjusted',\n",
    "        'yaxis': {'title': \"US cents per pound\"}\n",
    "    }\n",
    "}\n",
    "\n",
    "py.image.save_as(fig, filename='colombia.png')\n",
    "py.iplot(fig, filename='colombia')"
   ]
  },
  {
   "cell_type": "code",
   "execution_count": 17,
   "metadata": {
    "collapsed": false
   },
   "outputs": [
    {
     "data": {
      "text/html": [
       "<iframe id=\"igraph\" scrolling=\"no\" style=\"border:none;\" seamless=\"seamless\" src=\"https://plot.ly/~numberscoffee/8.embed\" height=\"525px\" width=\"100%\"></iframe>"
      ],
      "text/plain": [
       "<plotly.tools.PlotlyDisplay object>"
      ]
     },
     "execution_count": 17,
     "metadata": {},
     "output_type": "execute_result"
    }
   ],
   "source": [
    "import plotly.plotly as py\n",
    "\n",
    "df = all_countries\n",
    "\n",
    "fig = {\n",
    "    'data': [\n",
    "        {'x': df['Date'], 'y': df['Nominal C Price'], 'mode': 'line', 'name': 'Nominal price'},\n",
    "        {'x': df['Date'], 'y': df['Guatemala'], 'mode': 'line', 'name': 'Inflation-adjusted price'},\n",
    "    ],\n",
    "    'layout': {\n",
    "        'title': 'Guatemala: Arabica coffee prices, nominal and adjusted',\n",
    "        'yaxis': {'title': \"US cents per pound\"}\n",
    "    }\n",
    "}\n",
    "\n",
    "py.image.save_as(fig, filename='guatemala.png')\n",
    "py.iplot(fig, filename='guatemala')"
   ]
  },
  {
   "cell_type": "code",
   "execution_count": 18,
   "metadata": {
    "collapsed": false
   },
   "outputs": [
    {
     "data": {
      "text/html": [
       "<iframe id=\"igraph\" scrolling=\"no\" style=\"border:none;\" seamless=\"seamless\" src=\"https://plot.ly/~numberscoffee/10.embed\" height=\"525px\" width=\"100%\"></iframe>"
      ],
      "text/plain": [
       "<plotly.tools.PlotlyDisplay object>"
      ]
     },
     "execution_count": 18,
     "metadata": {},
     "output_type": "execute_result"
    }
   ],
   "source": [
    "import plotly.plotly as py\n",
    "\n",
    "df = all_countries\n",
    "\n",
    "fig = {\n",
    "    'data': [\n",
    "        {'x': df['Date'], 'y': df['Nominal C Price'], 'mode': 'line', 'name': 'Nominal price'},\n",
    "        {'x': df['Date'], 'y': df['Vietnam'], 'mode': 'line', 'name': 'Inflation-adjusted price'},\n",
    "    ],\n",
    "    'layout': {\n",
    "        'title': 'Vietnam: Arabica coffee prices, nominal and adjusted',\n",
    "        'yaxis': {'title': \"US cents per pound\"}\n",
    "    }\n",
    "}\n",
    "    \n",
    "py.image.save_as(fig, filename='vietnam.png')    \n",
    "py.iplot(fig, filename='vietnam')"
   ]
  },
  {
   "cell_type": "code",
   "execution_count": 19,
   "metadata": {
    "collapsed": false
   },
   "outputs": [
    {
     "data": {
      "text/html": [
       "<iframe id=\"igraph\" scrolling=\"no\" style=\"border:none;\" seamless=\"seamless\" src=\"https://plot.ly/~numberscoffee/18.embed\" height=\"525px\" width=\"100%\"></iframe>"
      ],
      "text/plain": [
       "<plotly.tools.PlotlyDisplay object>"
      ]
     },
     "execution_count": 19,
     "metadata": {},
     "output_type": "execute_result"
    }
   ],
   "source": [
    "import plotly.plotly as py\n",
    "\n",
    "df = all_countries\n",
    "\n",
    "fig = {\n",
    "    'data': [\n",
    "        {'x': df['Date'], 'y': df['Nominal C Price'], 'mode': 'line', 'name': 'Nominal price'},\n",
    "        {'x': df['Date'], 'y': df['Indonesia'], 'mode': 'line', 'name': 'Inflation-adjusted price'},\n",
    "    ],\n",
    "    'layout': {\n",
    "        'title': 'Indonesia: Arabica coffee prices, nominal and adjusted',        \n",
    "        'yaxis': {'title': \"US cents per pound\"}\n",
    "    }\n",
    "}\n",
    "    \n",
    "py.image.save_as(fig, filename='indo.png')\n",
    "py.iplot(fig, filename='indo')"
   ]
  },
  {
   "cell_type": "code",
   "execution_count": 20,
   "metadata": {
    "collapsed": false
   },
   "outputs": [
    {
     "data": {
      "text/html": [
       "<iframe id=\"igraph\" scrolling=\"no\" style=\"border:none;\" seamless=\"seamless\" src=\"https://plot.ly/~numberscoffee/14.embed\" height=\"525px\" width=\"100%\"></iframe>"
      ],
      "text/plain": [
       "<plotly.tools.PlotlyDisplay object>"
      ]
     },
     "execution_count": 20,
     "metadata": {},
     "output_type": "execute_result"
    }
   ],
   "source": [
    "import plotly.plotly as py\n",
    "\n",
    "df = all_countries\n",
    "\n",
    "fig = {\n",
    "    'data': [\n",
    "        {'x': df['Date'], 'y': df['Nominal C Price'], 'mode': 'line', 'name': 'Nominal price'},\n",
    "        {'x': df['Date'], 'y': df['Ethiopia'], 'mode': 'line', 'name': 'Inflation-adjusted price'},\n",
    "    ],\n",
    "    'layout': {\n",
    "        'title': 'Ethiopia: Arabica coffee prices, nominal and adjusted',        \n",
    "        'yaxis': {'title': \"US cents per pound\"}\n",
    "    }\n",
    "}\n",
    "    \n",
    "py.image.save_as(fig, filename='ethiopia.png')\n",
    "py.iplot(fig, filename='ethiopia')"
   ]
  },
  {
   "cell_type": "code",
   "execution_count": 21,
   "metadata": {
    "collapsed": false
   },
   "outputs": [
    {
     "data": {
      "text/html": [
       "<iframe id=\"igraph\" scrolling=\"no\" style=\"border:none;\" seamless=\"seamless\" src=\"https://plot.ly/~numberscoffee/16.embed\" height=\"525px\" width=\"100%\"></iframe>"
      ],
      "text/plain": [
       "<plotly.tools.PlotlyDisplay object>"
      ]
     },
     "execution_count": 21,
     "metadata": {},
     "output_type": "execute_result"
    }
   ],
   "source": [
    "import plotly.plotly as py\n",
    "\n",
    "df = all_countries\n",
    "\n",
    "fig = {\n",
    "    'data': [\n",
    "        {'x': df['Date'], 'y': df['Nominal C Price'], 'mode': 'line', 'name': 'Nominal price'},\n",
    "        {'x': df['Date'], 'y': df['Brazil'], 'mode': 'line', 'name': 'Brazil'},\n",
    "        {'x': df['Date'], 'y': df['Colombia'], 'mode': 'line', 'name': 'Colombia'},\n",
    "        {'x': df['Date'], 'y': df['Vietnam'], 'mode': 'line', 'name': 'Vietnam'},\n",
    "        {'x': df['Date'], 'y': df['Indonesia'], 'mode': 'line', 'name': 'Indonesia'},\n",
    "        {'x': df['Date'], 'y': df['Guatemala'], 'mode': 'line', 'name': 'Guatemala'},\n",
    "        {'x': df['Date'], 'y': df['Ethiopia'], 'mode': 'line', 'name': 'Ethiopia'},\n",
    "    ],\n",
    "    'layout': {\n",
    "        'title': 'Selected countries: Arabica coffee prices, nominal and adjusted',\n",
    "        'yaxis': {'title': \"US cents per pound\"}\n",
    "    }\n",
    "}\n",
    "    \n",
    "\n",
    "py.image.save_as(fig, filename='country-adjusted.png')\n",
    "py.iplot(fig, filename='country-adjusted')"
   ]
  },
  {
   "cell_type": "code",
   "execution_count": 22,
   "metadata": {
    "collapsed": false
   },
   "outputs": [
    {
     "data": {
      "text/html": [
       "<div>\n",
       "<style scoped>\n",
       "    .dataframe tbody tr th:only-of-type {\n",
       "        vertical-align: middle;\n",
       "    }\n",
       "\n",
       "    .dataframe tbody tr th {\n",
       "        vertical-align: top;\n",
       "    }\n",
       "\n",
       "    .dataframe thead th {\n",
       "        text-align: right;\n",
       "    }\n",
       "</style>\n",
       "<table border=\"1\" class=\"dataframe\">\n",
       "  <thead>\n",
       "    <tr style=\"text-align: right;\">\n",
       "      <th></th>\n",
       "      <th>Date</th>\n",
       "      <th>FX</th>\n",
       "      <th>Inflator</th>\n",
       "      <th>Nominal C Price</th>\n",
       "      <th>Adjusted C Price</th>\n",
       "      <th>Brazil</th>\n",
       "      <th>Colombia</th>\n",
       "      <th>Indonesia</th>\n",
       "      <th>Vietnam</th>\n",
       "      <th>Guatemala</th>\n",
       "      <th>Ethiopia</th>\n",
       "    </tr>\n",
       "  </thead>\n",
       "  <tbody>\n",
       "    <tr>\n",
       "      <th>0</th>\n",
       "      <td>2001-08-31</td>\n",
       "      <td>1.0</td>\n",
       "      <td>0.715878</td>\n",
       "      <td>50.50</td>\n",
       "      <td>70.542791</td>\n",
       "      <td>88.466520</td>\n",
       "      <td>79.846525</td>\n",
       "      <td>82.687461</td>\n",
       "      <td>109.514834</td>\n",
       "      <td>121.575517</td>\n",
       "      <td>131.775545</td>\n",
       "    </tr>\n",
       "    <tr>\n",
       "      <th>1</th>\n",
       "      <td>2001-09-04</td>\n",
       "      <td>1.0</td>\n",
       "      <td>0.715878</td>\n",
       "      <td>51.05</td>\n",
       "      <td>71.311078</td>\n",
       "      <td>89.780723</td>\n",
       "      <td>80.921262</td>\n",
       "      <td>84.785769</td>\n",
       "      <td>110.722337</td>\n",
       "      <td>122.432899</td>\n",
       "      <td>133.210724</td>\n",
       "    </tr>\n",
       "    <tr>\n",
       "      <th>2</th>\n",
       "      <td>2001-09-05</td>\n",
       "      <td>1.0</td>\n",
       "      <td>0.715878</td>\n",
       "      <td>48.50</td>\n",
       "      <td>67.749017</td>\n",
       "      <td>85.296083</td>\n",
       "      <td>77.117343</td>\n",
       "      <td>81.133035</td>\n",
       "      <td>105.198657</td>\n",
       "      <td>116.465048</td>\n",
       "      <td>126.556712</td>\n",
       "    </tr>\n",
       "    <tr>\n",
       "      <th>3</th>\n",
       "      <td>2001-09-06</td>\n",
       "      <td>1.0</td>\n",
       "      <td>0.715878</td>\n",
       "      <td>52.15</td>\n",
       "      <td>72.847654</td>\n",
       "      <td>92.790061</td>\n",
       "      <td>83.227272</td>\n",
       "      <td>86.709034</td>\n",
       "      <td>113.138297</td>\n",
       "      <td>125.388865</td>\n",
       "      <td>136.081083</td>\n",
       "    </tr>\n",
       "    <tr>\n",
       "      <th>4</th>\n",
       "      <td>2001-09-07</td>\n",
       "      <td>1.0</td>\n",
       "      <td>0.715878</td>\n",
       "      <td>51.80</td>\n",
       "      <td>72.358744</td>\n",
       "      <td>91.811451</td>\n",
       "      <td>82.542395</td>\n",
       "      <td>87.323304</td>\n",
       "      <td>112.393963</td>\n",
       "      <td>124.705183</td>\n",
       "      <td>135.167787</td>\n",
       "    </tr>\n",
       "  </tbody>\n",
       "</table>\n",
       "</div>"
      ],
      "text/plain": [
       "        Date   FX  Inflator  Nominal C Price  Adjusted C Price     Brazil  \\\n",
       "0 2001-08-31  1.0  0.715878            50.50         70.542791  88.466520   \n",
       "1 2001-09-04  1.0  0.715878            51.05         71.311078  89.780723   \n",
       "2 2001-09-05  1.0  0.715878            48.50         67.749017  85.296083   \n",
       "3 2001-09-06  1.0  0.715878            52.15         72.847654  92.790061   \n",
       "4 2001-09-07  1.0  0.715878            51.80         72.358744  91.811451   \n",
       "\n",
       "    Colombia  Indonesia     Vietnam   Guatemala    Ethiopia  \n",
       "0  79.846525  82.687461  109.514834  121.575517  131.775545  \n",
       "1  80.921262  84.785769  110.722337  122.432899  133.210724  \n",
       "2  77.117343  81.133035  105.198657  116.465048  126.556712  \n",
       "3  83.227272  86.709034  113.138297  125.388865  136.081083  \n",
       "4  82.542395  87.323304  112.393963  124.705183  135.167787  "
      ]
     },
     "execution_count": 22,
     "metadata": {},
     "output_type": "execute_result"
    }
   ],
   "source": [
    "all_countries.head()"
   ]
  },
  {
   "cell_type": "code",
   "execution_count": 23,
   "metadata": {
    "collapsed": true
   },
   "outputs": [],
   "source": [
    "vietnam = price_adjustor(DAILY_C, \"Vietnam\", START_DATE)"
   ]
  },
  {
   "cell_type": "code",
   "execution_count": 24,
   "metadata": {
    "collapsed": true
   },
   "outputs": [],
   "source": [
    "df = vietnam"
   ]
  },
  {
   "cell_type": "code",
   "execution_count": 25,
   "metadata": {
    "collapsed": false
   },
   "outputs": [
    {
     "data": {
      "text/html": [
       "<div>\n",
       "<style scoped>\n",
       "    .dataframe tbody tr th:only-of-type {\n",
       "        vertical-align: middle;\n",
       "    }\n",
       "\n",
       "    .dataframe tbody tr th {\n",
       "        vertical-align: top;\n",
       "    }\n",
       "\n",
       "    .dataframe thead th {\n",
       "        text-align: right;\n",
       "    }\n",
       "</style>\n",
       "<table border=\"1\" class=\"dataframe\">\n",
       "  <thead>\n",
       "    <tr style=\"text-align: right;\">\n",
       "      <th></th>\n",
       "      <th>Country</th>\n",
       "      <th>Cumulative Inflation</th>\n",
       "      <th>Cumulative Devaluation</th>\n",
       "      <th>Adj. Factor</th>\n",
       "    </tr>\n",
       "  </thead>\n",
       "  <tbody>\n",
       "    <tr>\n",
       "      <th>0</th>\n",
       "      <td>Vietnam</td>\n",
       "      <td>3.204364</td>\n",
       "      <td>1.550029</td>\n",
       "      <td>2.067293</td>\n",
       "    </tr>\n",
       "  </tbody>\n",
       "</table>\n",
       "</div>"
      ],
      "text/plain": [
       "   Country  Cumulative Inflation  Cumulative Devaluation  Adj. Factor\n",
       "0  Vietnam              3.204364                1.550029     2.067293"
      ]
     },
     "execution_count": 25,
     "metadata": {},
     "output_type": "execute_result"
    }
   ],
   "source": [
    "cum_inflation = float(df['Inflator'][-1:] / df['Inflator'][0])\n",
    "cum_devaluation = float(df['FX'][-30:].mean() / df['FX'][0:30].mean())\n",
    "factor =cum_inflation / cum_devaluation\n",
    "\n",
    "temp = pd.DataFrame(columns=('Country', 'Cumulative Inflation', 'Cumulative Devaluation', 'Adj. Factor'))\n",
    "temp.append({\n",
    "    'Country': 'Vietnam', \n",
    "    'Cumulative Inflation': cum_inflation, \n",
    "    'Cumulative Devaluation': cum_devaluation, \n",
    "    'Adj. Factor': factor\n",
    "    }, ignore_index=True)"
   ]
  },
  {
   "cell_type": "code",
   "execution_count": 26,
   "metadata": {
    "collapsed": false
   },
   "outputs": [
    {
     "data": {
      "text/plain": [
       "104.39830709284848"
      ]
     },
     "execution_count": 26,
     "metadata": {},
     "output_type": "execute_result"
    }
   ],
   "source": [
    "50.5 *  (cum_inflation / cum_devaluation)"
   ]
  },
  {
   "cell_type": "code",
   "execution_count": 27,
   "metadata": {
    "collapsed": false
   },
   "outputs": [
    {
     "data": {
      "text/html": [
       "<div>\n",
       "<style scoped>\n",
       "    .dataframe tbody tr th:only-of-type {\n",
       "        vertical-align: middle;\n",
       "    }\n",
       "\n",
       "    .dataframe tbody tr th {\n",
       "        vertical-align: top;\n",
       "    }\n",
       "\n",
       "    .dataframe thead th {\n",
       "        text-align: right;\n",
       "    }\n",
       "</style>\n",
       "<table border=\"1\" class=\"dataframe\">\n",
       "  <thead>\n",
       "    <tr style=\"text-align: right;\">\n",
       "      <th></th>\n",
       "      <th>Date</th>\n",
       "      <th>FX</th>\n",
       "      <th>Inflator</th>\n",
       "      <th>Nominal C Price</th>\n",
       "      <th>Adjusted C Price</th>\n",
       "    </tr>\n",
       "  </thead>\n",
       "  <tbody>\n",
       "    <tr>\n",
       "      <th>0</th>\n",
       "      <td>2001-08-31</td>\n",
       "      <td>14994.0</td>\n",
       "      <td>0.297011</td>\n",
       "      <td>50.50</td>\n",
       "      <td>109.514834</td>\n",
       "    </tr>\n",
       "    <tr>\n",
       "      <th>1</th>\n",
       "      <td>2001-09-04</td>\n",
       "      <td>14996.0</td>\n",
       "      <td>0.297011</td>\n",
       "      <td>51.05</td>\n",
       "      <td>110.722337</td>\n",
       "    </tr>\n",
       "    <tr>\n",
       "      <th>2</th>\n",
       "      <td>2001-09-05</td>\n",
       "      <td>14997.0</td>\n",
       "      <td>0.297011</td>\n",
       "      <td>48.50</td>\n",
       "      <td>105.198657</td>\n",
       "    </tr>\n",
       "    <tr>\n",
       "      <th>3</th>\n",
       "      <td>2001-09-06</td>\n",
       "      <td>15000.0</td>\n",
       "      <td>0.297011</td>\n",
       "      <td>52.15</td>\n",
       "      <td>113.138297</td>\n",
       "    </tr>\n",
       "    <tr>\n",
       "      <th>4</th>\n",
       "      <td>2001-09-07</td>\n",
       "      <td>15002.0</td>\n",
       "      <td>0.297011</td>\n",
       "      <td>51.80</td>\n",
       "      <td>112.393963</td>\n",
       "    </tr>\n",
       "  </tbody>\n",
       "</table>\n",
       "</div>"
      ],
      "text/plain": [
       "        Date       FX  Inflator  Nominal C Price  Adjusted C Price\n",
       "0 2001-08-31  14994.0  0.297011            50.50        109.514834\n",
       "1 2001-09-04  14996.0  0.297011            51.05        110.722337\n",
       "2 2001-09-05  14997.0  0.297011            48.50        105.198657\n",
       "3 2001-09-06  15000.0  0.297011            52.15        113.138297\n",
       "4 2001-09-07  15002.0  0.297011            51.80        112.393963"
      ]
     },
     "execution_count": 27,
     "metadata": {},
     "output_type": "execute_result"
    }
   ],
   "source": [
    "vietnam.head()"
   ]
  },
  {
   "cell_type": "code",
   "execution_count": 28,
   "metadata": {
    "collapsed": false
   },
   "outputs": [
    {
     "data": {
      "text/html": [
       "<div>\n",
       "<style scoped>\n",
       "    .dataframe tbody tr th:only-of-type {\n",
       "        vertical-align: middle;\n",
       "    }\n",
       "\n",
       "    .dataframe tbody tr th {\n",
       "        vertical-align: top;\n",
       "    }\n",
       "\n",
       "    .dataframe thead th {\n",
       "        text-align: right;\n",
       "    }\n",
       "</style>\n",
       "<table border=\"1\" class=\"dataframe\">\n",
       "  <thead>\n",
       "    <tr style=\"text-align: right;\">\n",
       "      <th></th>\n",
       "      <th>Date</th>\n",
       "      <th>FX</th>\n",
       "      <th>Inflator</th>\n",
       "      <th>Nominal C Price</th>\n",
       "      <th>Adjusted C Price</th>\n",
       "    </tr>\n",
       "  </thead>\n",
       "  <tbody>\n",
       "    <tr>\n",
       "      <th>4245</th>\n",
       "      <td>2018-08-23</td>\n",
       "      <td>23281.0</td>\n",
       "      <td>0.951732</td>\n",
       "      <td>97.20</td>\n",
       "      <td>102.138656</td>\n",
       "    </tr>\n",
       "    <tr>\n",
       "      <th>4246</th>\n",
       "      <td>2018-08-24</td>\n",
       "      <td>23300.0</td>\n",
       "      <td>0.951732</td>\n",
       "      <td>100.55</td>\n",
       "      <td>105.745097</td>\n",
       "    </tr>\n",
       "    <tr>\n",
       "      <th>4247</th>\n",
       "      <td>2018-08-27</td>\n",
       "      <td>23293.0</td>\n",
       "      <td>0.951732</td>\n",
       "      <td>101.85</td>\n",
       "      <td>107.080084</td>\n",
       "    </tr>\n",
       "    <tr>\n",
       "      <th>4248</th>\n",
       "      <td>2018-08-28</td>\n",
       "      <td>23295.0</td>\n",
       "      <td>0.951732</td>\n",
       "      <td>99.25</td>\n",
       "      <td>104.355532</td>\n",
       "    </tr>\n",
       "    <tr>\n",
       "      <th>4249</th>\n",
       "      <td>2018-08-29</td>\n",
       "      <td>23301.0</td>\n",
       "      <td>0.951732</td>\n",
       "      <td>98.65</td>\n",
       "      <td>103.751383</td>\n",
       "    </tr>\n",
       "  </tbody>\n",
       "</table>\n",
       "</div>"
      ],
      "text/plain": [
       "           Date       FX  Inflator  Nominal C Price  Adjusted C Price\n",
       "4245 2018-08-23  23281.0  0.951732            97.20        102.138656\n",
       "4246 2018-08-24  23300.0  0.951732           100.55        105.745097\n",
       "4247 2018-08-27  23293.0  0.951732           101.85        107.080084\n",
       "4248 2018-08-28  23295.0  0.951732            99.25        104.355532\n",
       "4249 2018-08-29  23301.0  0.951732            98.65        103.751383"
      ]
     },
     "execution_count": 28,
     "metadata": {},
     "output_type": "execute_result"
    }
   ],
   "source": [
    "vietnam.tail()"
   ]
  },
  {
   "cell_type": "code",
   "execution_count": 29,
   "metadata": {
    "collapsed": false
   },
   "outputs": [
    {
     "data": {
      "text/plain": [
       "0.07090152623394408"
      ]
     },
     "execution_count": 29,
     "metadata": {},
     "output_type": "execute_result"
    }
   ],
   "source": [
    "# inflation\n",
    "(.951732 / .297011) ** (1/(2018-2001)) -1"
   ]
  },
  {
   "cell_type": "code",
   "execution_count": 30,
   "metadata": {
    "collapsed": false
   },
   "outputs": [
    {
     "data": {
      "text/plain": [
       "0.026244546952585823"
      ]
     },
     "execution_count": 30,
     "metadata": {},
     "output_type": "execute_result"
    }
   ],
   "source": [
    "# fx\n",
    "(23.3 / 15.0) ** (1/(2018-2001)) -1"
   ]
  },
  {
   "cell_type": "code",
   "execution_count": null,
   "metadata": {
    "collapsed": true
   },
   "outputs": [],
   "source": []
  }
 ],
 "metadata": {
  "anaconda-cloud": {},
  "kernelspec": {
   "display_name": "Python [default]",
   "language": "python",
   "name": "python3"
  },
  "language_info": {
   "codemirror_mode": {
    "name": "ipython",
    "version": 3
   },
   "file_extension": ".py",
   "mimetype": "text/x-python",
   "name": "python",
   "nbconvert_exporter": "python",
   "pygments_lexer": "ipython3",
   "version": "3.5.2"
  }
 },
 "nbformat": 4,
 "nbformat_minor": 2
}
